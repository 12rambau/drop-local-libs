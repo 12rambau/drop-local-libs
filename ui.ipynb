{
 "cells": [
  {
   "cell_type": "code",
   "execution_count": null,
   "metadata": {},
   "outputs": [],
   "source": [
    "from sepal_ui import sepalwidgets as sw"
   ]
  },
  {
   "cell_type": "code",
   "execution_count": null,
   "metadata": {},
   "outputs": [],
   "source": [
    "#create appBar \n",
    "dl_appBar = sw.AppBar('Drop local libs')"
   ]
  },
  {
   "cell_type": "code",
   "execution_count": null,
   "metadata": {},
   "outputs": [],
   "source": [
    "%run 'drop_ui.ipynb'\n",
    "%run 'about_ui.ipynb'"
   ]
  },
  {
   "cell_type": "code",
   "execution_count": null,
   "metadata": {},
   "outputs": [],
   "source": [
    "dl_content = [dl_drop, dl_about, dl_disclaimer]"
   ]
  },
  {
   "cell_type": "code",
   "execution_count": null,
   "metadata": {},
   "outputs": [],
   "source": [
    "#create a drawer \n",
    "item_drop = sw.DrawerItem('Drop libs', 'mdi-delete-outline', card=\"drop_widget\").display_tile(dl_content)\n",
    "item_about = sw.DrawerItem('About', 'mdi-help-circle', card=\"about_widget\").display_tile(dl_content)\n",
    "\n",
    "code_link = 'https://github.com/12rambau/drop-local-libs'\n",
    "wiki_link = 'https://github.com/12rambau/drop-local-libs/blob/master/README.md'\n",
    "issue = 'https://github.com/12rambau/drop-local-libs/issues/new'\n",
    "\n",
    "dl_items = [item_drop,item_about]\n",
    "\n",
    "dl_drawer = sw.NavDrawer(dl_items, code=code_link, wiki=wiki_link, issue=issue).display_drawer(dl_appBar.toggle_button)"
   ]
  },
  {
   "cell_type": "code",
   "execution_count": null,
   "metadata": {},
   "outputs": [],
   "source": [
    "#build the app \n",
    "dl_app = sw.App(\n",
    "    tiles=dl_content, \n",
    "    navDrawer=dl_drawer\n",
    ").show_tile('drop_widget')"
   ]
  },
  {
   "cell_type": "code",
   "execution_count": null,
   "metadata": {},
   "outputs": [],
   "source": [
    "#display the app\n",
    "dl_app"
   ]
  }
 ],
 "metadata": {
  "kernelspec": {
   "display_name": "Python 3",
   "language": "python",
   "name": "python3"
  },
  "language_info": {
   "codemirror_mode": {
    "name": "ipython",
    "version": 3
   },
   "file_extension": ".py",
   "mimetype": "text/x-python",
   "name": "python",
   "nbconvert_exporter": "python",
   "pygments_lexer": "ipython3",
   "version": "3.6.9"
  }
 },
 "nbformat": 4,
 "nbformat_minor": 4
}
