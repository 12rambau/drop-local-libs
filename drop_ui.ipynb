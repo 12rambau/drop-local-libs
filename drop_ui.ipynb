{
 "cells": [
  {
   "cell_type": "code",
   "execution_count": null,
   "metadata": {},
   "outputs": [],
   "source": [
    "from sepal_ui import sepalwidgets as sw\n",
    "import message as ms"
   ]
  },
  {
   "cell_type": "code",
   "execution_count": null,
   "metadata": {},
   "outputs": [],
   "source": [
    "output = sw.Alert()\n",
    "\n",
    "explaination = sw.Markdown(ms.EXPLAINATION)\n",
    "\n",
    "btn = sw.Btn(ms.DROP_BTN)\n",
    "\n",
    "dl_drop = sw.Tile(\n",
    "    'drop_widget',\n",
    "    'Drop local librairies',\n",
    "    output = output,\n",
    "    inputs = [explaination],\n",
    "    btn = btn\n",
    ")"
   ]
  },
  {
   "cell_type": "code",
   "execution_count": null,
   "metadata": {},
   "outputs": [],
   "source": [
    "import os \n",
    "\n",
    "def on_click (widget, event, data):\n",
    "    \n",
    "    widget.toogle_loading()\n",
    "    \n",
    "    os.system(\"rm -r ~/.local\")\n",
    "    \n",
    "    output.add_msg(ms.DROPPED, 'success')\n",
    "    \n",
    "    widget.toogle_loading()\n",
    "    \n",
    "    return \n",
    "\n",
    "btn.on_event('click', on_click)"
   ]
  },
  {
   "cell_type": "code",
   "execution_count": null,
   "metadata": {},
   "outputs": [],
   "source": [
    "dl_drop"
   ]
  },
  {
   "cell_type": "code",
   "execution_count": null,
   "metadata": {},
   "outputs": [],
   "source": []
  },
  {
   "cell_type": "code",
   "execution_count": null,
   "metadata": {},
   "outputs": [],
   "source": []
  }
 ],
 "metadata": {
  "kernelspec": {
   "display_name": "Python 3",
   "language": "python",
   "name": "python3"
  },
  "language_info": {
   "codemirror_mode": {
    "name": "ipython",
    "version": 3
   },
   "file_extension": ".py",
   "mimetype": "text/x-python",
   "name": "python",
   "nbconvert_exporter": "python",
   "pygments_lexer": "ipython3",
   "version": "3.6.9"
  }
 },
 "nbformat": 4,
 "nbformat_minor": 4
}
